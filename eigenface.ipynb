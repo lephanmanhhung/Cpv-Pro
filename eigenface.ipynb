{
 "cells": [
  {
   "cell_type": "code",
   "execution_count": 4,
   "metadata": {},
   "outputs": [
    {
     "ename": "AttributeError",
     "evalue": "module 'utils' has no attribute 'image_to_vector'",
     "output_type": "error",
     "traceback": [
      "\u001b[1;31m---------------------------------------------------------------------------\u001b[0m",
      "\u001b[1;31mAttributeError\u001b[0m                            Traceback (most recent call last)",
      "Cell \u001b[1;32mIn[4], line 52\u001b[0m\n\u001b[0;32m     49\u001b[0m fr \u001b[38;5;241m=\u001b[39m FaceRecognizer(\u001b[38;5;241m0.9\u001b[39m)\n\u001b[0;32m     50\u001b[0m fr\u001b[38;5;241m.\u001b[39mtrain()\n\u001b[1;32m---> 52\u001b[0m search_vector \u001b[38;5;241m=\u001b[39m \u001b[43mutils\u001b[49m\u001b[38;5;241;43m.\u001b[39;49m\u001b[43mimage_to_vector\u001b[49m(\u001b[38;5;124m'\u001b[39m\u001b[38;5;124mimg/test_input.jpg\u001b[39m\u001b[38;5;124m'\u001b[39m)\n\u001b[0;32m     53\u001b[0m match, match_label \u001b[38;5;241m=\u001b[39m fr\u001b[38;5;241m.\u001b[39mfind_best_match(search_vector)\n\u001b[0;32m     54\u001b[0m plt\u001b[38;5;241m.\u001b[39mimsave(\u001b[38;5;124m'\u001b[39m\u001b[38;5;124mimg/match.jpg\u001b[39m\u001b[38;5;124m'\u001b[39m, match\u001b[38;5;241m.\u001b[39mreshape(\u001b[38;5;241m64\u001b[39m, \u001b[38;5;241m64\u001b[39m), cmap\u001b[38;5;241m=\u001b[39m\u001b[38;5;124m'\u001b[39m\u001b[38;5;124mgray\u001b[39m\u001b[38;5;124m'\u001b[39m)\n",
      "\u001b[1;31mAttributeError\u001b[0m: module 'utils' has no attribute 'image_to_vector'"
     ]
    }
   ],
   "source": [
    "import matplotlib.pyplot as plt\n",
    "import numpy as np\n",
    "\n",
    "class FaceRecognizer:\n",
    "    def __init__(self, retention):\n",
    "        self.retention = retention\n",
    "        self.face_data = None\n",
    "        self.labels = None\n",
    "        self.mean_face = None\n",
    "        self.faces_less_mean = None\n",
    "        self.eigenfaces = None\n",
    "        self.weights = None\n",
    "\n",
    "    def train(self):\n",
    "        self.load_data()\n",
    "        self.mean_face = np.average(self.face_data, axis=0)\n",
    "        self.find_eigenfaces()\n",
    "        self.weights = np.matmul(self.faces_less_mean, self.eigenfaces)\n",
    "\n",
    "    def load_data(self):\n",
    "        raw_data = np.genfromtxt('olivetti_faces_augmented.csv', delimiter=',')\n",
    "        data_without_headers = np.delete(raw_data, 0, axis=0)\n",
    "        self.labels = data_without_headers[:, -1]\n",
    "        self.face_data = np.delete(data_without_headers, -1, axis=1)\n",
    "\n",
    "    def find_eigenfaces(self):\n",
    "        self.faces_less_mean = self.face_data - self.mean_face\n",
    "        U, S, _ = np.linalg.svd(self.faces_less_mean.T)\n",
    "        total_energy = S.sum()\n",
    "        retention_candidates = np.where(S.cumsum() / total_energy > self.retention)\n",
    "        dimensions_to_retain = retention_candidates[0][0]\n",
    "        self.eigenfaces = U[:, 0:dimensions_to_retain]\n",
    "\n",
    "    def reconstruct(self, weights):\n",
    "        return np.matmul(weights, self.eigenfaces.T) + self.mean_face\n",
    "\n",
    "    def find_best_match(self, face):\n",
    "        face_less_mean = face - self.mean_face\n",
    "        face_weights = np.matmul(face_less_mean, self.eigenfaces)\n",
    "        diffs = self.weights - face_weights\n",
    "        squared_diffs = diffs ** 2\n",
    "        match_index = np.argmin(squared_diffs.sum(axis=1))\n",
    "        return self.reconstruct(self.weights[match_index]), self.labels[match_index]\n",
    "\n",
    "\n",
    "if __name__ == '__main__':\n",
    "    import utils\n",
    "\n",
    "    fr = FaceRecognizer(0.9)\n",
    "    fr.train()\n",
    "\n",
    "    search_vector = utils.image_to_vector('img/test_input.jpg')\n",
    "    match, match_label = fr.find_best_match(search_vector)\n",
    "    plt.imsave('img/match.jpg', match.reshape(64, 64), cmap='gray')"
   ]
  },
  {
   "cell_type": "code",
   "execution_count": 3,
   "metadata": {},
   "outputs": [],
   "source": [
    "import numpy as np\n",
    "from PIL import Image\n",
    "\n",
    "def resize_images(images, desired_dimensions):\n",
    "    for name in images:\n",
    "        im = Image.open(name)\n",
    "        out = im.resize(desired_dimensions)\n",
    "        out.save(f'formatted_{name}')\n",
    "\n",
    "def rgb2gray(img_rgb):\n",
    "    return img_rgb[:, :, 0] * 0.2989 + img_rgb[:, :, 1] * 0.5870 + img_rgb[:, :, 2] * 0.1140\n",
    "\n",
    "def image_to_vector(filepath):\n",
    "    img_data = np.asarray(Image.open(filepath))\n",
    "    if len(img_data.shape) > 2:\n",
    "        img_data = rgb2gray(img_data) / 255.0\n",
    "    return img_data.reshape(-1)"
   ]
  }
 ],
 "metadata": {
  "kernelspec": {
   "display_name": "Python 3",
   "language": "python",
   "name": "python3"
  },
  "language_info": {
   "codemirror_mode": {
    "name": "ipython",
    "version": 3
   },
   "file_extension": ".py",
   "mimetype": "text/x-python",
   "name": "python",
   "nbconvert_exporter": "python",
   "pygments_lexer": "ipython3",
   "version": "3.12.1"
  }
 },
 "nbformat": 4,
 "nbformat_minor": 2
}
